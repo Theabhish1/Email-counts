{
  "nbformat": 4,
  "nbformat_minor": 0,
  "metadata": {
    "colab": {
      "provenance": []
    },
    "kernelspec": {
      "name": "python3",
      "display_name": "Python 3"
    },
    "language_info": {
      "name": "python"
    }
  },
  "cells": [
    {
      "cell_type": "code",
      "source": [
        "import sqlite3\n",
        "import re\n",
        "\n",
        "# Connect to the database (creates the database file if it doesn't exist)\n",
        "conn = sqlite3.connect('email_counts.db')\n",
        "cur = conn.cursor()\n",
        "\n",
        "# Drop the table if it exists (to clear data before each run)\n",
        "cur.execute('DROP TABLE IF EXISTS Counts')\n",
        "\n",
        "# Create the table\n",
        "cur.execute('CREATE TABLE Counts (org TEXT, count INTEGER)')\n",
        "\n",
        "# Read the mbox.txt file and update the database\n",
        "filename = input(\"Enter filename: \")\n",
        "try:\n",
        "    with open(filename, 'r', encoding='utf-8') as file:\n",
        "        for line in file:\n",
        "            if line.startswith('From: '):\n",
        "                email = line.split()[1]\n",
        "                domain = re.findall('@([^ ]+)', email)\n",
        "                if domain:\n",
        "                    domain = domain[0]\n",
        "                    cur.execute('SELECT count FROM Counts WHERE org = ?', (domain,))\n",
        "                    row = cur.fetchone()\n",
        "                    if row is None:\n",
        "                        cur.execute('INSERT INTO Counts (org, count) VALUES (?, 1)', (domain,))\n",
        "                    else:\n",
        "                        cur.execute('UPDATE Counts SET count = count + 1 WHERE org = ?', (domain,))\n",
        "        conn.commit()\n",
        "except Exception as e:\n",
        "    print(f\"An error occurred: {e}\")\n",
        "\n",
        "# Print the results\n",
        "cur.execute('SELECT * FROM Counts ORDER BY count DESC')\n",
        "for row in cur.fetchall():\n",
        "    print(row)\n",
        "\n",
        "# Close the database connection\n",
        "cur.close()\n"
      ],
      "metadata": {
        "colab": {
          "base_uri": "https://localhost:8080/"
        },
        "id": "miQUCW7dnNoW",
        "outputId": "d93be122-0287-4299-ea27-718183734174"
      },
      "execution_count": 15,
      "outputs": [
        {
          "output_type": "stream",
          "name": "stdout",
          "text": [
            "Enter filename: mbox.txt\n",
            "('iupui.edu', 8)\n",
            "('umich.edu', 7)\n",
            "('uct.ac.za', 6)\n",
            "('media.berkeley.edu', 4)\n",
            "('caret.cam.ac.uk', 1)\n",
            "('gmail.com', 1)\n"
          ]
        }
      ]
    },
    {
      "cell_type": "code",
      "source": [],
      "metadata": {
        "id": "5QlucU2fuCd0"
      },
      "execution_count": null,
      "outputs": []
    }
  ]
}